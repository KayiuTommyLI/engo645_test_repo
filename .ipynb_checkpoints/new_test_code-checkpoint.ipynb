{
 "cells": [
  {
   "cell_type": "code",
   "execution_count": 1,
   "id": "6f634a7a-5741-40a4-ba57-7e49f54d9ecf",
   "metadata": {},
   "outputs": [
    {
     "name": "stdout",
     "output_type": "stream",
     "text": [
      "Hello ENGO 645 Students!\n"
     ]
    }
   ],
   "source": [
    "print(\"Hello ENGO 645 Students!\")"
   ]
  },
  {
   "cell_type": "code",
   "execution_count": null,
   "id": "a13d5d77-f7fc-452f-a89a-a7d5a579ebe8",
   "metadata": {},
   "outputs": [],
   "source": []
  }
 ],
 "metadata": {
  "kernelspec": {
   "display_name": "Python 3 (ipykernel)",
   "language": "python",
   "name": "python3"
  },
  "language_info": {
   "codemirror_mode": {
    "name": "ipython",
    "version": 3
   },
   "file_extension": ".py",
   "mimetype": "text/x-python",
   "name": "python",
   "nbconvert_exporter": "python",
   "pygments_lexer": "ipython3",
   "version": "3.11.5"
  }
 },
 "nbformat": 4,
 "nbformat_minor": 5
}
